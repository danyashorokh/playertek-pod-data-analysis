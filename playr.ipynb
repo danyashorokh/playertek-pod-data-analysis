{
 "cells": [
  {
   "cell_type": "markdown",
   "metadata": {},
   "source": [
    "## PLAYR statistics"
   ]
  },
  {
   "cell_type": "code",
   "execution_count": null,
   "metadata": {},
   "outputs": [],
   "source": [
    "import requests\n",
    "import numpy as np\n",
    "import pandas as pd\n",
    "import json\n",
    "from datetime import datetime, timedelta\n",
    "import time\n",
    "import matplotlib.pyplot as plt\n",
    "from matplotlib.patches import Arc\n",
    "import seaborn as sns\n",
    "from skimage.io import imshow"
   ]
  },
  {
   "cell_type": "code",
   "execution_count": null,
   "metadata": {},
   "outputs": [],
   "source": [
    "def auth(url, params):\n",
    "    try:\n",
    "        result = requests.post(url, data=params)\n",
    "        return result.status_code, result.text\n",
    "    except:\n",
    "        return None, None     "
   ]
  },
  {
   "cell_type": "markdown",
   "metadata": {},
   "source": [
    "## All links"
   ]
  },
  {
   "cell_type": "markdown",
   "metadata": {},
   "source": [
    "* https://playr.playertek.com/v1/session/3120257/stats/distance\n",
    "\n",
    "* /v1/session/3120257/positional/splits\n",
    "* /v1/session/3120257/fiveminute\n",
    "* /v1/session/3120257/heatmap?xRes=231&yRes=131\n",
    "* /v1/session/3120257/powerplays\n",
    "\n",
    "* /v1/session/3120257"
   ]
  },
  {
   "cell_type": "markdown",
   "metadata": {},
   "source": [
    "## Authorization"
   ]
  },
  {
   "cell_type": "code",
   "execution_count": null,
   "metadata": {},
   "outputs": [],
   "source": [
    "base_url = 'https://playr.playertek.com/v1/'\n",
    "auth_url = base_url + 'user/login'"
   ]
  },
  {
   "cell_type": "code",
   "execution_count": null,
   "metadata": {},
   "outputs": [],
   "source": [
    "status, auth_response = auth(auth_url, {\"userName\":\"\",\"password\":\"\"})\n",
    "status"
   ]
  },
  {
   "cell_type": "code",
   "execution_count": null,
   "metadata": {
    "scrolled": true
   },
   "outputs": [],
   "source": [
    "for k, v in json.loads(auth_response).items():\n",
    "    print(k, v)"
   ]
  },
  {
   "cell_type": "code",
   "execution_count": null,
   "metadata": {},
   "outputs": [],
   "source": [
    "session_token = json.loads(auth_response)[\"sessionToken\"]"
   ]
  },
  {
   "cell_type": "markdown",
   "metadata": {},
   "source": [
    "## Get sessions list"
   ]
  },
  {
   "cell_type": "code",
   "execution_count": 19,
   "metadata": {},
   "outputs": [],
   "source": [
    "sessions_url = base_url + 'session/cards/list/'"
   ]
  },
  {
   "cell_type": "code",
   "execution_count": 20,
   "metadata": {
    "scrolled": true
   },
   "outputs": [
    {
     "name": "stdout",
     "output_type": "stream",
     "text": [
      "200\n",
      "sessions count = 26\n"
     ]
    }
   ],
   "source": [
    "r = requests.get(sessions_url, headers={'x-xsrf-token': session_token})\n",
    "print(r.status_code)\n",
    "sessions_list = json.loads(r.text)['sessionCards']\n",
    "print(f'sessions count = {len(sessions_list)}')"
   ]
  },
  {
   "cell_type": "code",
   "execution_count": null,
   "metadata": {},
   "outputs": [],
   "source": [
    "with open('sessions_list.json', 'w') as f:\n",
    "    f.write(json.dumps(sessions_list))"
   ]
  },
  {
   "cell_type": "code",
   "execution_count": null,
   "metadata": {},
   "outputs": [],
   "source": [
    "# sessions_list[0]"
   ]
  },
  {
   "cell_type": "code",
   "execution_count": null,
   "metadata": {},
   "outputs": [],
   "source": [
    "sessions_list[1]"
   ]
  },
  {
   "cell_type": "code",
   "execution_count": null,
   "metadata": {
    "scrolled": true
   },
   "outputs": [],
   "source": [
    "lst = []\n",
    "# Iterate through sessions\n",
    "for sess in sessions_list:\n",
    "    lsti = []\n",
    "    headers = []\n",
    "    for key, value in sess.items():\n",
    "        if key != 'metrics': # ignore metrics list\n",
    "            lsti.append(value)\n",
    "            if len(headers) < len(sess) - 1:\n",
    "                headers.append(key)\n",
    "    \n",
    "    # look at metrics list       \n",
    "    for metric in sess['metrics']:\n",
    "        metric_name = metric['metricName']\n",
    "        headers += [metric_name, metric_name + '_unit']\n",
    "        lsti += [metric['value'], metric['unit']]\n",
    "    \n",
    "    lst.append(lsti)\n",
    "\n",
    "sess_tiny = pd.DataFrame(lst, columns=headers)\n",
    "\n",
    "# Convert fields\n",
    "for column in ['sessionId', 'sessionType', 'hasBeenSetup', 'minsPlayed', \n",
    "               'ourGoals', 'theirGoals', 'powerPlays', 'sprintDistance']:\n",
    "    sess_tiny[column] = sess_tiny[column].astype(int)\n",
    "for column in ['distance', 'topSpeed']:\n",
    "    sess_tiny[column] = sess_tiny[column].astype(float)\n",
    "\n",
    "# sess_tiny['timestampStart'] = sess_tiny['timestampStart'].map(lambda x: \n",
    "#                                                 datetime.utcfromtimestamp(int(x[:-3])).strftime('%Y-%m-%d %H:%M:%S'))\n",
    "# sess_tiny['timestampStart'] = pd.to_datetime(sess_tiny['timestampStart'])\n",
    "\n",
    "# for i in range(len(sess_tiny)):\n",
    "#     sess_tiny.loc[i, 'timestampFinish'] = sess_tiny.loc[i ,'timestampStart'] + pd.Timedelta(minutes=sess_tiny.loc[i, 'minsPlayed'])\n",
    "\n",
    "# Sorting sessions by ID\n",
    "sess_tiny.sort_values(by='sessionId', inplace=True)\n",
    "\n",
    "print(sess_tiny)\n",
    "print(sess_tiny.info())"
   ]
  },
  {
   "cell_type": "markdown",
   "metadata": {},
   "source": [
    "# Grab all data"
   ]
  },
  {
   "cell_type": "code",
   "execution_count": 21,
   "metadata": {
    "scrolled": false
   },
   "outputs": [
    {
     "name": "stdout",
     "output_type": "stream",
     "text": [
      "[01/26] Session id = 6253822\n",
      "https://playr.playertek.com/v1/session/6253822/ 200\n",
      "https://playr.playertek.com/v1/session/6253822/fiveminute/ 200\n",
      "https://playr.playertek.com/v1/session/6253822/powerplays/ 200\n",
      "https://playr.playertek.com/v1/session/6253822/positional/ 200\n",
      "https://playr.playertek.com/v1/session/6253822/heatmap?xRes=231&yRes=131 200\n",
      "https://playr.playertek.com/v1/session/6253822/stats/distance/ 200\n",
      "https://playr.playertek.com/v1/session/6253822/positional/splits/ 200\n",
      "https://playr.playertek.com/v1/pitch/615507 200\n"
     ]
    }
   ],
   "source": [
    "data = []\n",
    "\n",
    "# urls list\n",
    "base_url = 'https://playr.playertek.com/v1/'\n",
    "session_url = 'session/%s/'\n",
    "fiveminute_url = 'session/%s/fiveminute/'\n",
    "powerplays_url = 'session/%s/powerplays/'\n",
    "dist_heatmap_url = 'session/%s/heatmap?xRes=%s&yRes=%s'\n",
    "stats_distance_url = 'session/%s/stats/distance/'\n",
    "positional_splits_url = 'session/%s/positional/splits/'\n",
    "positional_url = 'session/%s/positional/'\n",
    "pitch_url = 'pitch/%s'\n",
    "\n",
    "for i, session in enumerate(sessions_list[:1]):\n",
    "    session_id = session['sessionId']\n",
    "    print(f'[{\"0\"*(len(str(len(sessions_list))) - len(str(i + 1))) + str(i + 1)}/{len(sessions_list)}] Session id = {session_id}')\n",
    "    data_chunk = {'session_id': session_id}\n",
    "    \n",
    "    # get common info\n",
    "    r = requests.get(base_url + session_url % session_id, headers={'x-xsrf-token': session_token})\n",
    "    print(base_url + session_url % session_id, r.status_code)\n",
    "    session_info = json.loads(r.text)\n",
    "    pitch_id = session_info['pitchId']\n",
    "    data_chunk['info'] = session_info\n",
    "    \n",
    "    # get five minute info\n",
    "    r = requests.get(base_url + fiveminute_url % session_id, headers={'x-xsrf-token': session_token})\n",
    "    print(base_url + fiveminute_url % session_id, r.status_code)\n",
    "    session_fivemin = json.loads(r.text)\n",
    "    data_chunk['fivemin'] = session_fivemin\n",
    "    \n",
    "    # get powerplays info\n",
    "    r = requests.get(base_url + powerplays_url % session_id, headers={'x-xsrf-token': session_token})\n",
    "    print(base_url + powerplays_url % session_id, r.status_code)\n",
    "    session_powerplays = json.loads(r.text)\n",
    "    data_chunk['powerplays'] = session_powerplays\n",
    "    \n",
    "    # get positional path info\n",
    "    r = requests.get(base_url + positional_url % session_id, headers={'x-xsrf-token': session_token})\n",
    "    print(base_url + positional_url % session_id, r.status_code)\n",
    "    session_positional_path = json.loads(r.text)\n",
    "    data_chunk['positional'] = session_positional_path\n",
    "    \n",
    "    # get heatmap info\n",
    "    r = requests.get(base_url + dist_heatmap_url % (session_id, 231, 131), headers={'x-xsrf-token': session_token})\n",
    "    print(base_url + dist_heatmap_url % (session_id, 231, 131), r.status_code)\n",
    "    session_heatmap = json.loads(r.text)\n",
    "    data_chunk['heatmap'] = session_heatmap\n",
    "\n",
    "    # get stats distance info\n",
    "    r = requests.get(base_url + stats_distance_url % session_id, headers={'x-xsrf-token': session_token})\n",
    "    print(base_url + stats_distance_url % session_id, r.status_code)\n",
    "    session_stats_distance = json.loads(r.text)\n",
    "    data_chunk['stats_distance'] = session_stats_distance\n",
    "    \n",
    "    # get positional splits info\n",
    "    r = requests.get(base_url + positional_splits_url % session_id, headers={'x-xsrf-token': session_token})\n",
    "    print(base_url + positional_splits_url % session_id, r.status_code)\n",
    "    session_positional_splits = json.loads(r.text)\n",
    "    data_chunk['positional_splits'] = session_positional_splits\n",
    "    \n",
    "    # get pitch info\n",
    "    r = requests.get(base_url + pitch_url % pitch_id, headers={'x-xsrf-token': session_token})\n",
    "    print(base_url + pitch_url % pitch_id, r.status_code)\n",
    "    session_pitch = json.loads(r.text)\n",
    "    data_chunk['pitch'] = session_pitch\n",
    "    \n",
    "    data.append(data_chunk)"
   ]
  },
  {
   "cell_type": "code",
   "execution_count": null,
   "metadata": {
    "scrolled": true
   },
   "outputs": [],
   "source": [
    "data[0].keys()"
   ]
  },
  {
   "cell_type": "code",
   "execution_count": null,
   "metadata": {},
   "outputs": [],
   "source": [
    "data[0]['info']"
   ]
  },
  {
   "cell_type": "code",
   "execution_count": null,
   "metadata": {},
   "outputs": [],
   "source": [
    "data[0]['positional']"
   ]
  },
  {
   "cell_type": "code",
   "execution_count": null,
   "metadata": {},
   "outputs": [],
   "source": [
    "with open('sessions_20201008.json', 'w') as f:\n",
    "    f.write(json.dumps(data))"
   ]
  },
  {
   "cell_type": "markdown",
   "metadata": {},
   "source": [
    "## Get sessions"
   ]
  },
  {
   "cell_type": "code",
   "execution_count": 22,
   "metadata": {},
   "outputs": [],
   "source": [
    "session_url = '/session/%s/'"
   ]
  },
  {
   "cell_type": "code",
   "execution_count": null,
   "metadata": {
    "scrolled": true
   },
   "outputs": [],
   "source": [
    "sessions = []\n",
    "for sess_id in list(sess_tiny['sessionId'])[:]:\n",
    "    \n",
    "    print(f'session id = {sess_id}')\n",
    "    r = requests.get(base_url + session_url % sess_id, headers={'x-xsrf-token': session_token})\n",
    "    print(r.status_code)\n",
    "    sess = json.loads(r.text)\n",
    "    sessions.append(sess)\n",
    "\n",
    "print(f'Captured sessions = {len(sessions)}')"
   ]
  },
  {
   "cell_type": "code",
   "execution_count": null,
   "metadata": {},
   "outputs": [],
   "source": [
    "sessions[1]"
   ]
  },
  {
   "cell_type": "code",
   "execution_count": null,
   "metadata": {},
   "outputs": [],
   "source": [
    "sessions[-1]"
   ]
  },
  {
   "cell_type": "code",
   "execution_count": null,
   "metadata": {
    "scrolled": true
   },
   "outputs": [],
   "source": [
    "lst = []\n",
    "excluded_keys = ['plannedSession']\n",
    "for sess in sessions[:]: \n",
    "    lsti = []\n",
    "    headers = []\n",
    "    for key, value in sess.items():\n",
    "        if key not in excluded_keys:\n",
    "            lsti.append(value)\n",
    "            if len(headers) < len(sess) - len(excluded_keys):\n",
    "                headers.append(key)\n",
    "    \n",
    "    # look at metrics list       \n",
    "    for excl_field in excluded_keys:\n",
    "        \n",
    "        # dict parameters\n",
    "        if isinstance(sess[excl_field], dict):\n",
    "            lsti.append(True)\n",
    "            headers.append(excl_field)\n",
    "            for excl_key, excl_value in sess[excl_field].items():\n",
    "                lsti.append(excl_value)\n",
    "                if excl_key in headers:\n",
    "                    excl_key = excl_field + '_' + excl_key\n",
    "                headers.append(excl_key)\n",
    "        elif isinstance(sess[excl_field], list):\n",
    "            pass # TODO: if it exists\n",
    "        elif sess[excl_field] is None:\n",
    "            lsti.append(None)\n",
    "            headers.append(excl_field)\n",
    "        else:\n",
    "            lsti.append(None)\n",
    "            headers.append(excl_field)\n",
    "    \n",
    "    lst.append(lsti)\n",
    "\n",
    "sess_df = pd.DataFrame(lst, columns=headers)\n",
    "    \n",
    "print(sess_df.head(10))\n",
    "print(sess_df.info())"
   ]
  },
  {
   "cell_type": "markdown",
   "metadata": {},
   "source": [
    "### Convert values"
   ]
  },
  {
   "cell_type": "code",
   "execution_count": null,
   "metadata": {},
   "outputs": [],
   "source": [
    "for column in ['sessionTimestampStart', 'sessionTimestampEnd']:\n",
    "    if column in list(sess_df.columns) and str(sess_df[column].dtype) != 'datetime64[ns]':\n",
    "        sess_df[column] = sess_df[column].map(lambda x: \n",
    "                                              datetime.utcfromtimestamp(int(x[:-3])).strftime('%Y-%m-%d %H:%M:%S'))\n",
    "        sess_df[column] = pd.to_datetime(sess_df[column])\n",
    "    \n",
    "for column in ['startTime', 'endTime']:\n",
    "    if str(sess_df[column].dtype) != 'datetime64[ns]':\n",
    "        sess_df[column] = sess_df[column].map(lambda x: \n",
    "                                              datetime.utcfromtimestamp(int(x[:-5])).strftime('%Y-%m-%d %H:%M:%S'))\n",
    "        sess_df[column] = pd.to_datetime(sess_df[column])\n",
    "\n",
    "columns_integer = ['sessionId', 'playerId', 'sessionGroupId', 'sessionType', 'halfDuration', \n",
    "               'pitchId', 'playedStartOffset', 'playedEndOffset', 'trainingDuration', \n",
    "               'hasProMatch', 'isDirectionPlayUp', 'sessionPowerPlays', 'sessionSprintDistanceM', \n",
    "               'caloriesBurned', 'isUsingGameActivity', 'firstHalfIsDirectionUp']\n",
    "\n",
    "columns_float = ['sessionDistanceM', 'sessionTopSpeedMS']\n",
    "\n",
    "for column in columns_integer:\n",
    "    try:\n",
    "        sess_df[column] = sess_df[column].astype(int)\n",
    "    except:\n",
    "        print(column, 'error')\n",
    "        \n",
    "for column in columns_float:\n",
    "    try:\n",
    "        sess_df[column] = sess_df[column].astype(float)\n",
    "    except:\n",
    "        print(column, 'error')\n",
    "        \n",
    "# Convert 'firstHalfStartTime', 'secondHalfStartTime'\n",
    "    \n",
    "print(sess_df.dtypes)"
   ]
  },
  {
   "cell_type": "markdown",
   "metadata": {},
   "source": [
    "## Get fiveminutes"
   ]
  },
  {
   "cell_type": "code",
   "execution_count": null,
   "metadata": {
    "scrolled": true
   },
   "outputs": [],
   "source": [
    "fiveminute_url = '/session/%s/fiveminute/'\n",
    "\n",
    "for sess_id in ['2947648']: # list(sess_df['sessionId'])[:1]:\n",
    "\n",
    "    print(sess_id)\n",
    "    r = requests.get(base_url + fiveminute_url % sess_id, headers={'x-xsrf-token': session_token})\n",
    "    print(r.status_code)\n",
    "    sess_fivemin = json.loads(r.text)"
   ]
  },
  {
   "cell_type": "code",
   "execution_count": null,
   "metadata": {},
   "outputs": [],
   "source": [
    "print(sess_fivemin)"
   ]
  },
  {
   "cell_type": "code",
   "execution_count": null,
   "metadata": {},
   "outputs": [],
   "source": [
    "for fiveminutes in sess_fivemin:\n",
    "    print(len(fiveminutes['data']))\n",
    "    for k, v in fiveminutes.items():\n",
    "        print(k, v)"
   ]
  },
  {
   "cell_type": "code",
   "execution_count": null,
   "metadata": {},
   "outputs": [],
   "source": [
    "sess_df.loc[sess_df['sessionId'] == 2947648, 'distance'].values[0]"
   ]
  },
  {
   "cell_type": "markdown",
   "metadata": {},
   "source": [
    "## Heatmap"
   ]
  },
  {
   "cell_type": "code",
   "execution_count": 28,
   "metadata": {},
   "outputs": [
    {
     "name": "stdout",
     "output_type": "stream",
     "text": [
      "https://playr.playertek.com/v1/session/2947648/heatmap?xRes=231&yRes=131\n",
      "200\n"
     ]
    }
   ],
   "source": [
    "dist_heatmap_url = 'session/%s/heatmap?xRes=%s&yRes=%s'\n",
    "sess_id = '2947648'\n",
    "print(base_url + dist_heatmap_url % (sess_id, 231, 131))\n",
    "r = requests.get(base_url + dist_heatmap_url % (sess_id, 231, 131), headers={'x-xsrf-token': session_token})\n",
    "print(r.status_code)\n",
    "heatmap = json.loads(r.text)"
   ]
  },
  {
   "cell_type": "code",
   "execution_count": 29,
   "metadata": {},
   "outputs": [
    {
     "data": {
      "text/plain": [
       "dict_keys(['all'])"
      ]
     },
     "execution_count": 29,
     "metadata": {},
     "output_type": "execute_result"
    }
   ],
   "source": [
    "heatmap.keys()"
   ]
  },
  {
   "cell_type": "code",
   "execution_count": 30,
   "metadata": {},
   "outputs": [
    {
     "name": "stdout",
     "output_type": "stream",
     "text": [
      "   y   x     v\n",
      "0  0  18  0.02\n",
      "1  0  22  0.00\n",
      "2  0  25  0.04\n",
      "3  0  59  0.06\n",
      "4  0  63  0.06\n",
      "                 y            x            v\n",
      "count  1449.000000  1449.000000  1449.000000\n",
      "mean    102.349896    69.616977     0.180531\n",
      "std      58.647861    30.999047     0.176949\n",
      "min       0.000000     5.000000     0.000000\n",
      "25%      53.000000    44.000000     0.050000\n",
      "50%     102.000000    70.000000     0.120000\n",
      "75%     150.000000    95.000000     0.240000\n",
      "max     228.000000   128.000000     1.000000\n"
     ]
    }
   ],
   "source": [
    "df = pd.DataFrame(heatmap['all']['heatmap']['data'], columns=['y', 'x', 'v'])\n",
    "\n",
    "print(df.head())\n",
    "print(df.describe())"
   ]
  },
  {
   "cell_type": "code",
   "execution_count": 31,
   "metadata": {},
   "outputs": [
    {
     "name": "stdout",
     "output_type": "stream",
     "text": [
      "(231, 131)\n"
     ]
    }
   ],
   "source": [
    "hm_matrix = np.zeros((231,131))\n",
    "print(hm_matrix.shape)\n",
    "\n",
    "for i in range(len(df)):\n",
    "    y, x, v = df.loc[i, 'y':'v']\n",
    "#     hm_matrix[y][x] = v\n",
    "    hm_matrix.itemset((int(y), int(x)), v)"
   ]
  },
  {
   "cell_type": "code",
   "execution_count": 32,
   "metadata": {},
   "outputs": [
    {
     "data": {
      "image/png": "[encoded data removed]",
      "text/plain": [
       "<Figure size 640x480 with 1 Axes>"
      ]
     },
     "metadata": {},
     "output_type": "display_data"
    }
   ],
   "source": [
    "fig, ax = plt.subplots()\n",
    "im = ax.imshow(hm_matrix, cmap=\"gray\")\n",
    "\n",
    "ax.set_title(\"Heat map\")\n",
    "fig.tight_layout()\n",
    "plt.show()"
   ]
  },
  {
   "cell_type": "code",
   "execution_count": 33,
   "metadata": {},
   "outputs": [],
   "source": [
    "lst = []\n",
    "for i in range(len(df)):\n",
    "    y, x, v = df.loc[i, 'y':'v']\n",
    "    for i in range(int(v * 50)):\n",
    "        lst.append([x, y])\n",
    "        \n",
    "df_sns = pd.DataFrame(lst, columns=['x', 'y'])"
   ]
  },
  {
   "cell_type": "code",
   "execution_count": 34,
   "metadata": {},
   "outputs": [
    {
     "data": {
      "text/html": [
       "<div>\n",
       "<style scoped>\n",
       "    .dataframe tbody tr th:only-of-type {\n",
       "        vertical-align: middle;\n",
       "    }\n",
       "\n",
       "    .dataframe tbody tr th {\n",
       "        vertical-align: top;\n",
       "    }\n",
       "\n",
       "    .dataframe thead th {\n",
       "        text-align: right;\n",
       "    }\n",
       "</style>\n",
       "<table border=\"1\" class=\"dataframe\">\n",
       "  <thead>\n",
       "    <tr style=\"text-align: right;\">\n",
       "      <th></th>\n",
       "      <th>x</th>\n",
       "      <th>y</th>\n",
       "    </tr>\n",
       "  </thead>\n",
       "  <tbody>\n",
       "    <tr>\n",
       "      <th>count</th>\n",
       "      <td>12800.000000</td>\n",
       "      <td>12800.000000</td>\n",
       "    </tr>\n",
       "    <tr>\n",
       "      <th>mean</th>\n",
       "      <td>72.609297</td>\n",
       "      <td>104.690781</td>\n",
       "    </tr>\n",
       "    <tr>\n",
       "      <th>std</th>\n",
       "      <td>21.076667</td>\n",
       "      <td>48.232437</td>\n",
       "    </tr>\n",
       "    <tr>\n",
       "      <th>min</th>\n",
       "      <td>5.000000</td>\n",
       "      <td>0.000000</td>\n",
       "    </tr>\n",
       "    <tr>\n",
       "      <th>25%</th>\n",
       "      <td>59.000000</td>\n",
       "      <td>69.000000</td>\n",
       "    </tr>\n",
       "    <tr>\n",
       "      <th>50%</th>\n",
       "      <td>73.000000</td>\n",
       "      <td>106.000000</td>\n",
       "    </tr>\n",
       "    <tr>\n",
       "      <th>75%</th>\n",
       "      <td>87.000000</td>\n",
       "      <td>140.000000</td>\n",
       "    </tr>\n",
       "    <tr>\n",
       "      <th>max</th>\n",
       "      <td>128.000000</td>\n",
       "      <td>228.000000</td>\n",
       "    </tr>\n",
       "  </tbody>\n",
       "</table>\n",
       "</div>"
      ],
      "text/plain": [
       "                  x             y\n",
       "count  12800.000000  12800.000000\n",
       "mean      72.609297    104.690781\n",
       "std       21.076667     48.232437\n",
       "min        5.000000      0.000000\n",
       "25%       59.000000     69.000000\n",
       "50%       73.000000    106.000000\n",
       "75%       87.000000    140.000000\n",
       "max      128.000000    228.000000"
      ]
     },
     "execution_count": 34,
     "metadata": {},
     "output_type": "execute_result"
    }
   ],
   "source": [
    "df_sns.describe()"
   ]
  },
  {
   "cell_type": "code",
   "execution_count": null,
   "metadata": {},
   "outputs": [],
   "source": [
    "#Create figure\n",
    "color = 'white'\n",
    "fig=plt.figure()\n",
    "fig.set_size_inches(7, 5)\n",
    "ax=fig.add_subplot(1,1,1)\n",
    "\n",
    "#Pitch Outline & Centre Line\n",
    "plt.plot([0,0],[0,90], color=color)\n",
    "plt.plot([0,130],[90,90], color=color)\n",
    "plt.plot([130,130],[90,0], color=color)\n",
    "plt.plot([130,0],[0,0], color=color)\n",
    "plt.plot([65,65],[0,90], color=color)\n",
    "\n",
    "#Left Penalty Area\n",
    "plt.plot([16.5,16.5],[65,25],color=color)\n",
    "plt.plot([0,16.5],[65,65],color=color)\n",
    "plt.plot([16.5,0],[25,25],color=color)\n",
    "\n",
    "#Right Penalty Area\n",
    "plt.plot([130,113.5],[65,65],color=color)\n",
    "plt.plot([113.5,113.5],[65,25],color=color)\n",
    "plt.plot([113.5,130],[25,25],color=color)\n",
    "\n",
    "#Left 6-yard Box\n",
    "plt.plot([0,5.5],[54,54],color=color)\n",
    "plt.plot([5.5,5.5],[54,36],color=color)\n",
    "plt.plot([5.5,0.5],[36,36],color=color)\n",
    "\n",
    "#Right 6-yard Box\n",
    "plt.plot([130,124.5],[54,54],color=color)\n",
    "plt.plot([124.5,124.5],[54,36],color=color)\n",
    "plt.plot([124.5,130],[36,36],color=color)\n",
    "\n",
    "#Prepare Circles\n",
    "centreCircle = plt.Circle((65,45),9.15,color=color,fill=False)\n",
    "centreSpot = plt.Circle((65,45),0.8,color=color)\n",
    "leftPenSpot = plt.Circle((11,45),0.8,color=color)\n",
    "rightPenSpot = plt.Circle((119,45),0.8,color=color)\n",
    "\n",
    "#Draw Circles\n",
    "ax.add_patch(centreCircle)\n",
    "ax.add_patch(centreSpot)\n",
    "ax.add_patch(leftPenSpot)\n",
    "ax.add_patch(rightPenSpot)\n",
    "\n",
    "#Prepare Arcs\n",
    "leftArc = Arc((11,45),height=18.3,width=18.3,angle=0,theta1=310,theta2=50,color=color)\n",
    "rightArc = Arc((119,45),height=18.3,width=18.3,angle=0,theta1=130,theta2=230,color=color)\n",
    "\n",
    "#Draw Arcs\n",
    "ax.add_patch(leftArc)\n",
    "ax.add_patch(rightArc)\n",
    "\n",
    "#Tidy Axes\n",
    "plt.axis('off')\n",
    "\n",
    "sns.kdeplot(df_sns[\"y\"]/231*130, df_sns[\"x\"]/131*90, shade=True, n_levels=50, cmap=\"CMRmap\")\n",
    "plt.ylim(0, 90)\n",
    "plt.xlim(0, 130)\n",
    "\n",
    "#Display Pitch\n",
    "plt.show()"
   ]
  },
  {
   "cell_type": "code",
   "execution_count": null,
   "metadata": {},
   "outputs": [],
   "source": [
    "'''\n",
    "Accent, Accent_r, Blues, Blues_r, BrBG, BrBG_r, BuGn, BuGn_r, BuPu, BuPu_r, CMRmap, CMRmap_r, Dark2, \n",
    "Dark2_r, GnBu, GnBu_r, Greens, Greens_r, Greys, Greys_r, OrRd, OrRd_r, Oranges, Oranges_r, PRGn, PRGn_r, \n",
    "Paired, Paired_r, Pastel1, Pastel1_r, Pastel2, Pastel2_r, PiYG, PiYG_r, PuBu, PuBuGn, PuBuGn_r, PuBu_r, \n",
    "PuOr, PuOr_r, PuRd, PuRd_r, Purples, Purples_r, RdBu, RdBu_r, RdGy, RdGy_r, RdPu, RdPu_r, RdYlBu, RdYlBu_r, \n",
    "RdYlGn, RdYlGn_r, Reds, Reds_r, Set1, Set1_r, Set2, Set2_r, Set3, Set3_r, Spectral, Spectral_r, Wistia, \n",
    "Wistia_r, YlGn, YlGnBu, YlGnBu_r, YlGn_r, YlOrBr, YlOrBr_r, YlOrRd, YlOrRd_r, afmhot, afmhot_r, autumn, \n",
    "autumn_r, binary, binary_r, bone, bone_r, brg, brg_r, bwr, bwr_r, cividis, cividis_r, cool, cool_r, \n",
    "coolwarm, coolwarm_r, copper, copper_r, cubehelix, cubehelix_r, flag, flag_r, gist_earth, gist_earth_r, \n",
    "gist_gray, gist_gray_r, gist_heat, gist_heat_r, gist_ncar, gist_ncar_r, gist_rainbow, gist_rainbow_r, \n",
    "gist_stern, gist_stern_r, gist_yarg, gist_yarg_r, gnuplot, gnuplot2, gnuplot2_r, gnuplot_r, gray, gray_r, \n",
    "hot, hot_r, hsv, hsv_r, icefire, icefire_r, inferno, inferno_r, jet, jet_r, magma, magma_r, mako, mako_r, \n",
    "nipy_spectral, nipy_spectral_r, ocean, ocean_r, pink, pink_r, plasma, plasma_r, prism, prism_r, rainbow, \n",
    "rainbow_r, rocket, rocket_r, seismic, seismic_r, spring, spring_r, summer, summer_r, tab10, tab10_r, tab20, \n",
    "tab20_r, tab20b, tab20b_r, tab20c, tab20c_r, terrain, terrain_r, twilight, twilight_r, twilight_shifted, \n",
    "twilight_shifted_r, viridis, viridis_r, vlag, vlag_r, winter, winter_r\n",
    "'''"
   ]
  },
  {
   "cell_type": "code",
   "execution_count": null,
   "metadata": {},
   "outputs": [],
   "source": [
    "#Create figure\n",
    "color = 'white'\n",
    "\n",
    "fig=plt.figure()\n",
    "fig.set_size_inches(5, 7)\n",
    "ax=fig.add_subplot(1, 1, 1)\n",
    "\n",
    "#Pitch Outline & Centre Line\n",
    "# x1 x2  - y1 y2\n",
    "plt.plot([0, 0], [0, 130], color=color) # left\n",
    "plt.plot([0, 90], [0, 0], color=color) # down\n",
    "plt.plot([90, 90], [0, 130], color=color) # right\n",
    "plt.plot([0, 90], [130, 130], color=color) # up\n",
    "plt.plot([0, 90],[65, 65], color=color)  # center\n",
    "\n",
    "# Down Penalty Area\n",
    "plt.plot([65, 25], [16.5, 16.5], color=color) # up\n",
    "plt.plot([25, 25], [0 , 16.5], color=color) # left\n",
    "plt.plot([65, 65], [0, 16.5], color=color) # right\n",
    "\n",
    "# Up Penalty Area\n",
    "plt.plot([65, 25], [113.5, 113.5], color=color) # down\n",
    "plt.plot([25, 25], [130 , 113.5], color=color) # left\n",
    "plt.plot([65, 65], [130, 113.5], color=color) # right\n",
    "\n",
    "# Down 6-yard Box\n",
    "plt.plot([54, 36], [5.5, 5.5], color=color) # up\n",
    "plt.plot([54, 54], [0, 5.5], color=color) # right\n",
    "plt.plot([36, 36], [5.5, 0.5], color=color) # left\n",
    "\n",
    "# Up 6-yard Box\n",
    "plt.plot([54, 36], [124.5, 124.5], color=color) # down\n",
    "plt.plot([54, 54], [130, 124.5], color=color) # right\n",
    "plt.plot([36, 36], [124.5, 130], color=color) # left\n",
    "\n",
    "# Prepare Circles\n",
    "centreCircle = plt.Circle((45, 65), 9.15, color=color, fill=False)\n",
    "centreSpot = plt.Circle((45, 65), 0.8, color=color)\n",
    "downPenSpot = plt.Circle((45, 11), 0.8, color=color)\n",
    "upPenSpot = plt.Circle((45, 119), 0.8, color=color)\n",
    "\n",
    "#Draw Circles\n",
    "ax.add_patch(centreCircle)\n",
    "ax.add_patch(centreSpot)\n",
    "ax.add_patch(downPenSpot)\n",
    "ax.add_patch(upPenSpot)\n",
    "\n",
    "#Prepare Arcs\n",
    "downArc = Arc((45, 11), height=18.3, width=18.3, angle=90, theta1=310, theta2=50, color=color)\n",
    "upArc = Arc((45, 119), height=18.3, width=18.3, angle=90, theta1=130, theta2=230, color=color)\n",
    "\n",
    "#Draw Arcs\n",
    "ax.add_patch(downArc)\n",
    "ax.add_patch(upArc)\n",
    "\n",
    "#Tidy Axes\n",
    "plt.axis('off')\n",
    "\n",
    "sns.kdeplot(90 - df_sns[\"x\"]/131*90, df_sns[\"y\"]/231*130, shade=True, n_levels=100, cmap=\"CMRmap\")\n",
    "plt.ylim(0, 130)\n",
    "plt.xlim(0, 90)\n",
    "\n",
    "#Display Pitch\n",
    "plt.show()"
   ]
  },
  {
   "cell_type": "code",
   "execution_count": null,
   "metadata": {},
   "outputs": [],
   "source": [
    "def plot_heatmap(df, data_dims, plot_dims=(90, 130), n_levels=50, color='white', cmap='CMRmap'):\n",
    "    fig=plt.figure()\n",
    "    fig.set_size_inches(5, 7)\n",
    "    ax=fig.add_subplot(1, 1, 1)\n",
    "\n",
    "    #Pitch Outline & Centre Line\n",
    "    # x1 x2  - y1 y2\n",
    "    plt.plot([0, 0], [0, 130], color=color) # left\n",
    "    plt.plot([0, 90], [0, 0], color=color) # down\n",
    "    plt.plot([90, 90], [0, 130], color=color) # right\n",
    "    plt.plot([0, 90], [130, 130], color=color) # up\n",
    "    plt.plot([0, 90],[65, 65], color=color)  # center\n",
    "\n",
    "    # Down Penalty Area\n",
    "    plt.plot([65, 25], [16.5, 16.5], color=color) # up\n",
    "    plt.plot([25, 25], [0 , 16.5], color=color) # left\n",
    "    plt.plot([65, 65], [0, 16.5], color=color) # right\n",
    "\n",
    "    # Up Penalty Area\n",
    "    plt.plot([65, 25], [113.5, 113.5], color=color) # down\n",
    "    plt.plot([25, 25], [130 , 113.5], color=color) # left\n",
    "    plt.plot([65, 65], [130, 113.5], color=color) # right\n",
    "\n",
    "    # Down 6-yard Box\n",
    "    plt.plot([54, 36], [5.5, 5.5], color=color) # up\n",
    "    plt.plot([54, 54], [0, 5.5], color=color) # right\n",
    "    plt.plot([36, 36], [5.5, 0.5], color=color) # left\n",
    "\n",
    "    # Up 6-yard Box\n",
    "    plt.plot([54, 36], [124.5, 124.5], color=color) # down\n",
    "    plt.plot([54, 54], [130, 124.5], color=color) # right\n",
    "    plt.plot([36, 36], [124.5, 130], color=color) # left\n",
    "\n",
    "    # Prepare Circles\n",
    "    centreCircle = plt.Circle((45, 65), 9.15, color=color, fill=False)\n",
    "    centreSpot = plt.Circle((45, 65), 0.8, color=color)\n",
    "    downPenSpot = plt.Circle((45, 11), 0.8, color=color)\n",
    "    upPenSpot = plt.Circle((45, 119), 0.8, color=color)\n",
    "\n",
    "    #Draw Circles\n",
    "    ax.add_patch(centreCircle)\n",
    "    ax.add_patch(centreSpot)\n",
    "    ax.add_patch(downPenSpot)\n",
    "    ax.add_patch(upPenSpot)\n",
    "\n",
    "    #Prepare Arcs\n",
    "    downArc = Arc((45, 11), height=18.3, width=18.3, angle=90, theta1=310, theta2=50, color=color)\n",
    "    upArc = Arc((45, 119), height=18.3, width=18.3, angle=90, theta1=130, theta2=230, color=color)\n",
    "\n",
    "    #Draw Arcs\n",
    "    ax.add_patch(downArc)\n",
    "    ax.add_patch(upArc)\n",
    "\n",
    "    #Tidy Axes\n",
    "    plt.axis('off')\n",
    "\n",
    "    sns.kdeplot(plot_dims[0] - df[\"x\"] / data_dims[0] * plot_dims[0], df[\"y\"] / data_dims[1] * plot_dims[1], \n",
    "                shade=True, n_levels=n_levels, cmap=cmap)\n",
    "    plt.ylim(0, plot_dims[1])\n",
    "    plt.xlim(0, plot_dims[0])\n",
    "\n",
    "    #Display Pitch\n",
    "#     plt.show()\n",
    "#     return plt.gcf()\n",
    "    return plt.figure(1)"
   ]
  },
  {
   "cell_type": "code",
   "execution_count": null,
   "metadata": {},
   "outputs": [],
   "source": [
    "hm = plot_heatmap(df_sns, data_dims=(131, 231), plot_dims=(90, 130), n_levels=50)"
   ]
  },
  {
   "cell_type": "code",
   "execution_count": null,
   "metadata": {},
   "outputs": [],
   "source": [
    "dist_heatmap_url = 'session/%s/heatmap?xRes=%s&yRes=%s'\n",
    "sess_id = '3269179'\n",
    "print(base_url + dist_heatmap_url % (sess_id, 231, 131))\n",
    "r = requests.get(base_url + dist_heatmap_url % (sess_id, 231, 131), headers={'x-xsrf-token': session_token})\n",
    "print(r.status_code)\n",
    "heatmap = json.loads(r.text)"
   ]
  },
  {
   "cell_type": "code",
   "execution_count": null,
   "metadata": {},
   "outputs": [],
   "source": [
    "heatmap.keys()"
   ]
  },
  {
   "cell_type": "code",
   "execution_count": null,
   "metadata": {},
   "outputs": [],
   "source": [
    "df = pd.DataFrame(heatmap['firstHalf']['heatmap']['data'], columns=['y', 'x', 'v'])\n",
    "\n",
    "lst = []\n",
    "for i in range(len(df)):\n",
    "    y, x, v = df.loc[i, 'y':'v']\n",
    "    for i in range(int(v * 50)):\n",
    "        lst.append([x, y])\n",
    "        \n",
    "df_sns = pd.DataFrame(lst, columns=['x', 'y'])"
   ]
  },
  {
   "cell_type": "code",
   "execution_count": null,
   "metadata": {},
   "outputs": [],
   "source": [
    "hm = plot_heatmap(df_sns, data_dims=(131, 231), plot_dims=(90, 130), n_levels=50)"
   ]
  },
  {
   "cell_type": "code",
   "execution_count": null,
   "metadata": {},
   "outputs": [],
   "source": [
    "df = pd.DataFrame(heatmap['secondHalf']['heatmap']['data'], columns=['y', 'x', 'v'])\n",
    "\n",
    "lst = []\n",
    "for i in range(len(df)):\n",
    "    y, x, v = df.loc[i, 'y':'v']\n",
    "    for i in range(int(v * 50)):\n",
    "        lst.append([x, y])\n",
    "        \n",
    "df_sns = pd.DataFrame(lst, columns=['x', 'y'])"
   ]
  },
  {
   "cell_type": "code",
   "execution_count": null,
   "metadata": {
    "scrolled": true
   },
   "outputs": [],
   "source": [
    "hm = plot_heatmap(df_sns, data_dims=(131, 231), plot_dims=(90, 130), n_levels=50)"
   ]
  },
  {
   "cell_type": "code",
   "execution_count": null,
   "metadata": {
    "scrolled": true
   },
   "outputs": [],
   "source": [
    "heatmap['firstHalf']"
   ]
  },
  {
   "cell_type": "markdown",
   "metadata": {},
   "source": [
    "# Pitch"
   ]
  },
  {
   "cell_type": "code",
   "execution_count": null,
   "metadata": {},
   "outputs": [],
   "source": [
    "pitch_id = '254556'\n",
    "pitch_url = 'pitch/%s'\n",
    "\n",
    "print(base_url + pitch_url % (pitch_id))\n",
    "r = requests.get(base_url + pitch_url % (pitch_id), headers={'x-xsrf-token': session_token})\n",
    "print(r.status_code)\n",
    "pitch_info = json.loads(r.text)\n",
    "\n",
    "print(pitch_info)"
   ]
  },
  {
   "cell_type": "markdown",
   "metadata": {},
   "source": [
    "# Positional"
   ]
  },
  {
   "cell_type": "code",
   "execution_count": null,
   "metadata": {
    "scrolled": false
   },
   "outputs": [],
   "source": [
    "data[0]['info']"
   ]
  },
  {
   "cell_type": "code",
   "execution_count": null,
   "metadata": {},
   "outputs": [],
   "source": [
    "data[0]['pitch']"
   ]
  },
  {
   "cell_type": "code",
   "execution_count": null,
   "metadata": {},
   "outputs": [],
   "source": [
    "sess_id = '3705297'\n",
    "positional_url = 'session/%s/positional/'\n",
    "\n",
    "r = requests.get(base_url + positional_url % (sess_id), headers={'x-xsrf-token': session_token})\n",
    "print(base_url + positional_url % (sess_id), r.status_code)\n",
    "positional_info = json.loads(r.text)"
   ]
  },
  {
   "cell_type": "code",
   "execution_count": null,
   "metadata": {
    "scrolled": true
   },
   "outputs": [],
   "source": [
    "arr = np.array(positional_info['positional'])\n",
    "arr.shape"
   ]
  },
  {
   "cell_type": "code",
   "execution_count": null,
   "metadata": {},
   "outputs": [],
   "source": [
    "interp_arr = arr.copy()\n",
    "x = interp_arr[:, 0]\n",
    "y = interp_arr[:, 1]\n",
    "width = 100\n",
    "height = 100\n",
    "interp_arr[:, 0] = np.interp(x, (x.min(), x.max()), (0, width))\n",
    "interp_arr[:, 1] = np.interp(y, (y.min(), y.max()), (0, height))"
   ]
  },
  {
   "cell_type": "code",
   "execution_count": null,
   "metadata": {},
   "outputs": [],
   "source": [
    "hm_matrix = np.ones((height + 1, width + 1)) * 255\n",
    "print(hm_matrix.shape)\n",
    "\n",
    "for el in interp_arr:\n",
    "    y, x, v = el\n",
    "    hm_matrix.itemset((int(y), int(x)), 0)"
   ]
  },
  {
   "cell_type": "code",
   "execution_count": null,
   "metadata": {
    "scrolled": false
   },
   "outputs": [],
   "source": [
    "fig, ax = plt.subplots(figsize=(10, 10))\n",
    "im = ax.imshow(hm_matrix, cmap=\"gray\")\n",
    "\n",
    "ax.set_title(\"Positional\")\n",
    "fig.tight_layout()\n",
    "plt.show()"
   ]
  },
  {
   "cell_type": "code",
   "execution_count": null,
   "metadata": {},
   "outputs": [],
   "source": [
    "a = np.array([-10, 0, 10])\n",
    "np.interp(a, (a.min(), a.max()), (0, 20))"
   ]
  },
  {
   "cell_type": "markdown",
   "metadata": {},
   "source": [
    "https://yandex.ru/dev/maps/staticapi/doc/1.x/dg/concepts/map_type.html/"
   ]
  },
  {
   "cell_type": "code",
   "execution_count": null,
   "metadata": {},
   "outputs": [],
   "source": [
    "# https://static-maps.yandex.ru/1.x/?ll=37.4514310,55.7929389&spn=0.016457,0.00619&l=sat&size=400,400"
   ]
  },
  {
   "cell_type": "code",
   "execution_count": null,
   "metadata": {},
   "outputs": [],
   "source": [
    "# Enter your api key here \n",
    "api_key = \"\"\n",
    "  \n",
    "# url variable store url \n",
    "url = \"https://static-maps.yandex.ru/1.x/?ll=37.4514310,55.7929389&spn=0.016457,0.00619&l=sat&size=400,400\"\n",
    "\n",
    "  \n",
    "# get method of requests module \n",
    "# return response object\n",
    "print(url)\n",
    "\n",
    "r = requests.get(url) \n",
    "\n",
    "r.content\n",
    "# # # wb mode is stand for write binary mode \n",
    "# f = open('address of the file location.png', 'wb')\n",
    "# f.write(r.content) \n",
    "  \n",
    "# # close method of file object \n",
    "# # save and close the file \n",
    "# f.close() "
   ]
  },
  {
   "cell_type": "code",
   "execution_count": null,
   "metadata": {},
   "outputs": [],
   "source": [
    "from io import BytesIO\n",
    "from PIL import Image"
   ]
  },
  {
   "cell_type": "code",
   "execution_count": null,
   "metadata": {},
   "outputs": [],
   "source": [
    "stream = BytesIO(r.content)\n",
    "image = Image.open(stream).convert(\"RGBA\")\n",
    "stream.close()\n",
    "image.show()"
   ]
  }
 ],
 "metadata": {
  "kernelspec": {
   "display_name": "Python 3 (ipykernel)",
   "language": "python",
   "name": "python3"
  },
  "language_info": {
   "codemirror_mode": {
    "name": "ipython",
    "version": 3
   },
   "file_extension": ".py",
   "mimetype": "text/x-python",
   "name": "python",
   "nbconvert_exporter": "python",
   "pygments_lexer": "ipython3",
   "version": "3.8.10"
  }
 },
 "nbformat": 4,
 "nbformat_minor": 2
}
